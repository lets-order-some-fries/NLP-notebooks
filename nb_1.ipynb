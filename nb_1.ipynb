{
 "cells": [
  {
   "cell_type": "markdown",
   "id": "9e7e1893",
   "metadata": {},
   "source": [
    "# Group Class Project 10\n",
    "\n",
    "-Ambuj Upadhyay<br>\n",
   ]
  },
  {
   "cell_type": "markdown",
   "id": "fd2bb7e8",
   "metadata": {},
   "source": [
    "In this homework assignment, you will be asked to categorize film reviews to their sentiment polarity (positive or negative). You can use the CountVectorizer to convert the reviews into vectors. The polarities \"positive\" and \"negative\" have to be converted to 1 and 0 respectively. \n",
    "\n",
    "Your models will be tested on a test dataset. \n",
    "\n",
    "You will need to submit a .py file with clear notes/comments. "
   ]
  },
  {
   "cell_type": "markdown",
   "id": "4a083795",
   "metadata": {},
   "source": [
    "## Importing libraries"
   ]
  },
  {
   "cell_type": "code",
   "execution_count": 129,
   "id": "20aeaf20",
   "metadata": {
    "ExecuteTime": {
     "end_time": "2024-01-31T20:05:19.280587Z",
     "start_time": "2024-01-31T20:05:19.271492Z"
    }
   },
   "outputs": [],
   "source": [
    "import numpy as np\n",
    "import pandas as pd\n",
    "from wordcloud import WordCloud\n",
    "import re\n",
    "import matplotlib.pyplot as plt\n",
    "import seaborn as sns\n",
    "import nltk\n",
    "from sklearn.pipeline import Pipeline\n",
    "from nltk.corpus import stopwords\n",
    "from nltk.stem import WordNetLemmatizer\n",
    "from sklearn.feature_extraction.text import TfidfVectorizer\n",
    "from sklearn.feature_extraction.text import CountVectorizer\n",
    "from sklearn.model_selection import GridSearchCV, train_test_split\n",
    "from sklearn.naive_bayes import MultinomialNB\n",
    "from sklearn.ensemble import RandomForestClassifier\n",
    "from sklearn.metrics import accuracy_score,precision_score,recall_score,confusion_matrix,roc_curve,classification_report\n",
    "from scikitplot.metrics import plot_confusion_matrix"
   ]
  },
  {
   "cell_type": "markdown",
   "id": "b08f8d1f",
   "metadata": {},
   "source": [
    "## Reading data"
   ]
  },
  {
   "cell_type": "code",
   "execution_count": 130,
   "id": "18052a9f",
   "metadata": {
    "ExecuteTime": {
     "end_time": "2024-01-31T20:05:20.106221Z",
     "start_time": "2024-01-31T20:05:19.690108Z"
    }
   },
   "outputs": [],
   "source": [
    "data = pd.read_csv('training data-2.csv')"
   ]
  },
  {
   "cell_type": "markdown",
   "id": "a45d5e72",
   "metadata": {},
   "source": [
    "## Exploratory Data Analysis"
   ]
  },
  {
   "cell_type": "code",
   "execution_count": 131,
   "id": "0dac3ad7",
   "metadata": {
    "ExecuteTime": {
     "end_time": "2024-01-31T20:05:20.114995Z",
     "start_time": "2024-01-31T20:05:20.107755Z"
    }
   },
   "outputs": [
    {
     "data": {
      "text/html": [
       "<div>\n",
       "<style scoped>\n",
       "    .dataframe tbody tr th:only-of-type {\n",
       "        vertical-align: middle;\n",
       "    }\n",
       "\n",
       "    .dataframe tbody tr th {\n",
       "        vertical-align: top;\n",
       "    }\n",
       "\n",
       "    .dataframe thead th {\n",
       "        text-align: right;\n",
       "    }\n",
       "</style>\n",
       "<table border=\"1\" class=\"dataframe\">\n",
       "  <thead>\n",
       "    <tr style=\"text-align: right;\">\n",
       "      <th></th>\n",
       "      <th>index</th>\n",
       "      <th>review</th>\n",
       "      <th>lable</th>\n",
       "    </tr>\n",
       "  </thead>\n",
       "  <tbody>\n",
       "    <tr>\n",
       "      <th>0</th>\n",
       "      <td>1</td>\n",
       "      <td>Some of the filmmakers who are participating i...</td>\n",
       "      <td>negative</td>\n",
       "    </tr>\n",
       "    <tr>\n",
       "      <th>1</th>\n",
       "      <td>2</td>\n",
       "      <td>Truly unique and stunning film of Jules Verne'...</td>\n",
       "      <td>positive</td>\n",
       "    </tr>\n",
       "    <tr>\n",
       "      <th>2</th>\n",
       "      <td>3</td>\n",
       "      <td>This light-heated (for Cassavetes)love story i...</td>\n",
       "      <td>positive</td>\n",
       "    </tr>\n",
       "    <tr>\n",
       "      <th>3</th>\n",
       "      <td>4</td>\n",
       "      <td>this is indeed a treat for every Bolan fan, so...</td>\n",
       "      <td>positive</td>\n",
       "    </tr>\n",
       "    <tr>\n",
       "      <th>4</th>\n",
       "      <td>5</td>\n",
       "      <td>This movie had very few moments of real drama....</td>\n",
       "      <td>negative</td>\n",
       "    </tr>\n",
       "  </tbody>\n",
       "</table>\n",
       "</div>"
      ],
      "text/plain": [
       "   index                                             review     lable\n",
       "0      1  Some of the filmmakers who are participating i...  negative\n",
       "1      2  Truly unique and stunning film of Jules Verne'...  positive\n",
       "2      3  This light-heated (for Cassavetes)love story i...  positive\n",
       "3      4  this is indeed a treat for every Bolan fan, so...  positive\n",
       "4      5  This movie had very few moments of real drama....  negative"
      ]
     },
     "execution_count": 131,
     "metadata": {},
     "output_type": "execute_result"
    }
   ],
   "source": [
    "data.head()"
   ]
  },
  {
   "cell_type": "code",
   "execution_count": 132,
   "id": "4a7a93b9",
   "metadata": {
    "ExecuteTime": {
     "end_time": "2024-01-31T20:05:20.288748Z",
     "start_time": "2024-01-31T20:05:20.268911Z"
    }
   },
   "outputs": [],
   "source": [
    "data = data.dropna(subset=['review'])\n",
    "data['review'] = data['review'].fillna('')\n",
    "data['review'] = data['review'].apply(str) "
   ]
  },
  {
   "cell_type": "code",
   "execution_count": 133,
   "id": "53ee9e80",
   "metadata": {
    "ExecuteTime": {
     "end_time": "2024-01-31T20:05:20.462718Z",
     "start_time": "2024-01-31T20:05:20.458620Z"
    }
   },
   "outputs": [
    {
     "data": {
      "text/plain": [
       "\"Some of the filmmakers who are participating in this series have made some really great films but they sure as heck are not showing much skill with this series. Particularly the writing. OK, the first season was somewhat better but these new episodes they are creating just stink. I'm a huge fan of horror and in my opinion the vast majority of these episodes are total garbage. Nothing new or genuinely interesting. Few of them are visually creative. It's just typical fabricated Hollywood crap, uninteresting, childish, poorly conceived and in some cases, flat out laughable. Much like Tales from the Crypt the only good thing this series has been offering is great nudity! Other then that this series blows hard. I get the impression sometimes that they hired a bunch of eighth-graders to write the episodes. Maybe they did.\""
      ]
     },
     "execution_count": 133,
     "metadata": {},
     "output_type": "execute_result"
    }
   ],
   "source": [
    "data['review'][0]"
   ]
  },
  {
   "cell_type": "code",
   "execution_count": 134,
   "id": "d81dea75",
   "metadata": {
    "ExecuteTime": {
     "end_time": "2024-01-31T20:05:20.790772Z",
     "start_time": "2024-01-31T20:05:20.647563Z"
    }
   },
   "outputs": [
    {
     "data": {
      "text/plain": [
       "<Axes: xlabel='lable', ylabel='Count'>"
      ]
     },
     "execution_count": 134,
     "metadata": {},
     "output_type": "execute_result"
    },
    {
     "data": {
      "image/png": "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",
      "text/plain": [
       "<Figure size 640x480 with 1 Axes>"
      ]
     },
     "metadata": {},
     "output_type": "display_data"
    }
   ],
   "source": [
    "sns.histplot(data['lable'])"
   ]
  },
  {
   "cell_type": "code",
   "execution_count": 135,
   "id": "1ffdd523",
   "metadata": {
    "ExecuteTime": {
     "end_time": "2024-01-31T20:05:20.871333Z",
     "start_time": "2024-01-31T20:05:20.835751Z"
    }
   },
   "outputs": [],
   "source": [
    "data['lable'] = data['lable'].replace({'positive': 1, 'negative': 0})"
   ]
  },
  {
   "cell_type": "markdown",
   "id": "17edacc4",
   "metadata": {},
   "source": [
    "## Train-Validation split"
   ]
  },
  {
   "cell_type": "code",
   "execution_count": 136,
   "id": "4d914fbb",
   "metadata": {
    "ExecuteTime": {
     "end_time": "2024-01-31T20:05:21.193577Z",
     "start_time": "2024-01-31T20:05:21.186341Z"
    }
   },
   "outputs": [],
   "source": [
    "x = data['review']\n",
    "y = data['lable']"
   ]
  },
  {
   "cell_type": "code",
   "execution_count": 137,
   "id": "e01215f2",
   "metadata": {
    "ExecuteTime": {
     "end_time": "2024-01-31T20:05:21.393065Z",
     "start_time": "2024-01-31T20:05:21.364589Z"
    }
   },
   "outputs": [],
   "source": [
    "x_train,x_val,y_train,y_val = train_test_split(x,y,test_size=0.2, random_state=42)"
   ]
  },
  {
   "cell_type": "code",
   "execution_count": null,
   "id": "50074fa9",
   "metadata": {},
   "outputs": [],
   "source": []
  },
  {
   "cell_type": "code",
   "execution_count": 138,
   "id": "95bd7b4e",
   "metadata": {
    "ExecuteTime": {
     "end_time": "2024-01-31T20:05:24.348899Z",
     "start_time": "2024-01-31T20:05:21.723248Z"
    }
   },
   "outputs": [],
   "source": [
    "vectorizer = TfidfVectorizer(stop_words='english')\n",
    "x_train_vectorized = vectorizer.fit_transform(x_train)\n",
    "x_val_vectorized = vectorizer.transform(x_val)"
   ]
  },
  {
   "cell_type": "code",
   "execution_count": 139,
   "id": "f41659f7",
   "metadata": {
    "ExecuteTime": {
     "end_time": "2024-01-31T20:05:24.361186Z",
     "start_time": "2024-01-31T20:05:24.350013Z"
    }
   },
   "outputs": [
    {
     "data": {
      "text/html": [
       "<style>#sk-container-id-8 {color: black;background-color: white;}#sk-container-id-8 pre{padding: 0;}#sk-container-id-8 div.sk-toggleable {background-color: white;}#sk-container-id-8 label.sk-toggleable__label {cursor: pointer;display: block;width: 100%;margin-bottom: 0;padding: 0.3em;box-sizing: border-box;text-align: center;}#sk-container-id-8 label.sk-toggleable__label-arrow:before {content: \"▸\";float: left;margin-right: 0.25em;color: #696969;}#sk-container-id-8 label.sk-toggleable__label-arrow:hover:before {color: black;}#sk-container-id-8 div.sk-estimator:hover label.sk-toggleable__label-arrow:before {color: black;}#sk-container-id-8 div.sk-toggleable__content {max-height: 0;max-width: 0;overflow: hidden;text-align: left;background-color: #f0f8ff;}#sk-container-id-8 div.sk-toggleable__content pre {margin: 0.2em;color: black;border-radius: 0.25em;background-color: #f0f8ff;}#sk-container-id-8 input.sk-toggleable__control:checked~div.sk-toggleable__content {max-height: 200px;max-width: 100%;overflow: auto;}#sk-container-id-8 input.sk-toggleable__control:checked~label.sk-toggleable__label-arrow:before {content: \"▾\";}#sk-container-id-8 div.sk-estimator input.sk-toggleable__control:checked~label.sk-toggleable__label {background-color: #d4ebff;}#sk-container-id-8 div.sk-label input.sk-toggleable__control:checked~label.sk-toggleable__label {background-color: #d4ebff;}#sk-container-id-8 input.sk-hidden--visually {border: 0;clip: rect(1px 1px 1px 1px);clip: rect(1px, 1px, 1px, 1px);height: 1px;margin: -1px;overflow: hidden;padding: 0;position: absolute;width: 1px;}#sk-container-id-8 div.sk-estimator {font-family: monospace;background-color: #f0f8ff;border: 1px dotted black;border-radius: 0.25em;box-sizing: border-box;margin-bottom: 0.5em;}#sk-container-id-8 div.sk-estimator:hover {background-color: #d4ebff;}#sk-container-id-8 div.sk-parallel-item::after {content: \"\";width: 100%;border-bottom: 1px solid gray;flex-grow: 1;}#sk-container-id-8 div.sk-label:hover label.sk-toggleable__label {background-color: #d4ebff;}#sk-container-id-8 div.sk-serial::before {content: \"\";position: absolute;border-left: 1px solid gray;box-sizing: border-box;top: 0;bottom: 0;left: 50%;z-index: 0;}#sk-container-id-8 div.sk-serial {display: flex;flex-direction: column;align-items: center;background-color: white;padding-right: 0.2em;padding-left: 0.2em;position: relative;}#sk-container-id-8 div.sk-item {position: relative;z-index: 1;}#sk-container-id-8 div.sk-parallel {display: flex;align-items: stretch;justify-content: center;background-color: white;position: relative;}#sk-container-id-8 div.sk-item::before, #sk-container-id-8 div.sk-parallel-item::before {content: \"\";position: absolute;border-left: 1px solid gray;box-sizing: border-box;top: 0;bottom: 0;left: 50%;z-index: -1;}#sk-container-id-8 div.sk-parallel-item {display: flex;flex-direction: column;z-index: 1;position: relative;background-color: white;}#sk-container-id-8 div.sk-parallel-item:first-child::after {align-self: flex-end;width: 50%;}#sk-container-id-8 div.sk-parallel-item:last-child::after {align-self: flex-start;width: 50%;}#sk-container-id-8 div.sk-parallel-item:only-child::after {width: 0;}#sk-container-id-8 div.sk-dashed-wrapped {border: 1px dashed gray;margin: 0 0.4em 0.5em 0.4em;box-sizing: border-box;padding-bottom: 0.4em;background-color: white;}#sk-container-id-8 div.sk-label label {font-family: monospace;font-weight: bold;display: inline-block;line-height: 1.2em;}#sk-container-id-8 div.sk-label-container {text-align: center;}#sk-container-id-8 div.sk-container {/* jupyter's `normalize.less` sets `[hidden] { display: none; }` but bootstrap.min.css set `[hidden] { display: none !important; }` so we also need the `!important` here to be able to override the default hidden behavior on the sphinx rendered scikit-learn.org. See: https://github.com/scikit-learn/scikit-learn/issues/21755 */display: inline-block !important;position: relative;}#sk-container-id-8 div.sk-text-repr-fallback {display: none;}</style><div id=\"sk-container-id-8\" class=\"sk-top-container\"><div class=\"sk-text-repr-fallback\"><pre>MultinomialNB()</pre><b>In a Jupyter environment, please rerun this cell to show the HTML representation or trust the notebook. <br />On GitHub, the HTML representation is unable to render, please try loading this page with nbviewer.org.</b></div><div class=\"sk-container\" hidden><div class=\"sk-item\"><div class=\"sk-estimator sk-toggleable\"><input class=\"sk-toggleable__control sk-hidden--visually\" id=\"sk-estimator-id-8\" type=\"checkbox\" checked><label for=\"sk-estimator-id-8\" class=\"sk-toggleable__label sk-toggleable__label-arrow\">MultinomialNB</label><div class=\"sk-toggleable__content\"><pre>MultinomialNB()</pre></div></div></div></div></div>"
      ],
      "text/plain": [
       "MultinomialNB()"
      ]
     },
     "execution_count": 139,
     "metadata": {},
     "output_type": "execute_result"
    }
   ],
   "source": [
    "model = MultinomialNB()\n",
    "model.fit(x_train_vectorized, y_train)"
   ]
  },
  {
   "cell_type": "code",
   "execution_count": 140,
   "id": "92a7ba0f",
   "metadata": {
    "ExecuteTime": {
     "end_time": "2024-01-31T20:05:24.364128Z",
     "start_time": "2024-01-31T20:05:24.362309Z"
    }
   },
   "outputs": [],
   "source": [
    "def perform_grid_search(X_train_vectorized, y_train):\n",
    "    \"\"\"\n",
    "    Perform grid search to tune the parameters of MultinomialNB.\n",
    "    \"\"\"\n",
    "    parameters = {\n",
    "        'alpha': (1e-2, 1e-3)\n",
    "    }\n",
    "\n",
    "    grid_search = GridSearchCV(MultinomialNB(), parameters, n_jobs=-1, cv=5)\n",
    "    grid_search.fit(X_train_vectorized, y_train)\n",
    "\n",
    "    return grid_search"
   ]
  },
  {
   "cell_type": "code",
   "execution_count": 141,
   "id": "75b90c1e",
   "metadata": {
    "ExecuteTime": {
     "end_time": "2024-01-31T20:05:25.886248Z",
     "start_time": "2024-01-31T20:05:24.365359Z"
    },
    "scrolled": false
   },
   "outputs": [],
   "source": [
    "grid_search = perform_grid_search(x_train_vectorized, y_train)"
   ]
  },
  {
   "cell_type": "code",
   "execution_count": 142,
   "id": "ef07270c",
   "metadata": {
    "ExecuteTime": {
     "end_time": "2024-01-31T20:05:25.889550Z",
     "start_time": "2024-01-31T20:05:25.887617Z"
    }
   },
   "outputs": [
    {
     "name": "stdout",
     "output_type": "stream",
     "text": [
      "Best parameters set found on development set:\n",
      "{'alpha': 0.01}\n"
     ]
    }
   ],
   "source": [
    "print(\"Best parameters set found on development set:\")\n",
    "print(grid_search.best_params_)"
   ]
  },
  {
   "cell_type": "code",
   "execution_count": 143,
   "id": "9043d878",
   "metadata": {
    "ExecuteTime": {
     "end_time": "2024-01-31T20:05:25.891674Z",
     "start_time": "2024-01-31T20:05:25.890262Z"
    }
   },
   "outputs": [],
   "source": [
    "# Train the best model\n",
    "best_model = grid_search.best_estimator_"
   ]
  },
  {
   "cell_type": "code",
   "execution_count": 144,
   "id": "59958701",
   "metadata": {
    "ExecuteTime": {
     "end_time": "2024-01-31T20:05:25.900156Z",
     "start_time": "2024-01-31T20:05:25.892312Z"
    }
   },
   "outputs": [
    {
     "data": {
      "text/plain": [
       "0.852375"
      ]
     },
     "execution_count": 144,
     "metadata": {},
     "output_type": "execute_result"
    }
   ],
   "source": [
    "y_pred = best_model.predict(x_val_vectorized)\n",
    "accuracy = accuracy_score(y_val, y_pred)\n",
    "accuracy"
   ]
  },
  {
   "cell_type": "code",
   "execution_count": null,
   "id": "556987ad",
   "metadata": {},
   "outputs": [],
   "source": []
  },
  {
   "cell_type": "code",
   "execution_count": null,
   "id": "4703a4ee",
   "metadata": {},
   "outputs": [],
   "source": []
  }
 ],
 "metadata": {
  "kernelspec": {
   "display_name": "Python 3 (ipykernel)",
   "language": "python",
   "name": "python3"
  },
  "language_info": {
   "codemirror_mode": {
    "name": "ipython",
    "version": 3
   },
   "file_extension": ".py",
   "mimetype": "text/x-python",
   "name": "python",
   "nbconvert_exporter": "python",
   "pygments_lexer": "ipython3",
   "version": "3.11.5"
  }
 },
 "nbformat": 4,
 "nbformat_minor": 5
}
